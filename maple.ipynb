{
 "cells": [
  {
   "cell_type": "markdown",
   "id": "e7b9ff58-e66b-43e5-bc2e-8ceee3c2ddf0",
   "metadata": {},
   "source": [
    "# Model Agnostic Supervised Local Explanations\n",
    "\n",
    "Run the Model Agnostic Supervised Local Explanations (MAPLE) in order to produce fully interpretable predictions for single instances. RF or GBM are fitted to the black-box model predictions and are used to weight training instances according to the frequency of appearence in the same leaf node of a specified instance. Features are ranked and then selected using a linear model by adding sequentially one by one the features and retaining those that improve a given metric. Finally, an interpretable linear model is fitted locally by weighting the training samples and using only the selected predictors.  "
   ]
  },
  {
   "cell_type": "code",
   "execution_count": 1,
   "id": "69aa9a3e-7803-4e4e-9ecb-17b5cb1be7e9",
   "metadata": {},
   "outputs": [],
   "source": [
    "import xarray as xr\n",
    "import netCDF4\n",
    "from pathlib import Path\n",
    "from matplotlib import pyplot as plt\n",
    "import numpy as np\n",
    "import pandas as pd\n",
    "import sys\n",
    "import gc\n",
    "import geopandas as gpd\n",
    "import rioxarray as rxr\n",
    "from shapely.geometry import box\n",
    "from affine import Affine\n",
    "import sys\n",
    "import seaborn as sns\n",
    "import rasterio\n",
    "import os\n",
    "from collections import defaultdict\n",
    "import random\n",
    "from methods.maple import Maple \n",
    "from sklearn.model_selection import StratifiedKFold\n",
    "from sklearn.ensemble import RandomForestClassifier \n",
    "from sklearn.metrics import confusion_matrix, plot_confusion_matrix, classification_report, plot_precision_recall_curve\n",
    "from utils.utils import print_instance"
   ]
  },
  {
   "cell_type": "code",
   "execution_count": 2,
   "id": "75fddb66-7a2d-4aa1-9878-7d46830e421d",
   "metadata": {},
   "outputs": [],
   "source": [
    "import warnings\n",
    "warnings.filterwarnings('ignore')"
   ]
  },
  {
   "cell_type": "markdown",
   "id": "896b0b9f-0a4a-4c26-887d-5b1ada0c51eb",
   "metadata": {},
   "source": [
    "Upload UC3 data: "
   ]
  },
  {
   "cell_type": "code",
   "execution_count": 3,
   "id": "7ed29aab-5411-4f4f-bd00-a5992e634545",
   "metadata": {},
   "outputs": [],
   "source": [
    "df = pd.read_csv(r\"C:\\Users\\unknown\\Desktop\\repos\\DC\\data\\greece_pixel_dataset.csv\")"
   ]
  },
  {
   "cell_type": "code",
   "execution_count": 4,
   "id": "4781331d-ea72-470c-b191-d7de2e3e456d",
   "metadata": {},
   "outputs": [
    {
     "data": {
      "text/plain": [
       "['Fpar_500m',\n",
       " 'Lai_500m',\n",
       " 'LST_Day_1km',\n",
       " 'LST_Night_1km',\n",
       " '1 km 16 days NDVI',\n",
       " '1 km 16 days EVI',\n",
       " 'ET_500m',\n",
       " 'LE_500m',\n",
       " 'PET_500m',\n",
       " 'PLE_500m',\n",
       " 'era5_max_u10',\n",
       " 'era5_max_v10',\n",
       " 'era5_max_t2m',\n",
       " 'era5_max_tp',\n",
       " 'era5_min_u10',\n",
       " 'era5_min_v10',\n",
       " 'era5_min_t2m',\n",
       " 'era5_min_tp',\n",
       " 'x',\n",
       " 'y',\n",
       " 'dem_mean',\n",
       " 'dem_std',\n",
       " 'aspect_mean',\n",
       " 'aspect_std',\n",
       " 'slope_mean',\n",
       " 'slope_std',\n",
       " 'roads_density_2020',\n",
       " 'population_density',\n",
       " 'clc',\n",
       " 'burned_areas',\n",
       " 'time',\n",
       " 'datetime']"
      ]
     },
     "execution_count": 4,
     "metadata": {},
     "output_type": "execute_result"
    }
   ],
   "source": [
    "list(df.columns)"
   ]
  },
  {
   "cell_type": "code",
   "execution_count": 5,
   "id": "71c61064-8ff1-41dd-8c98-66dae9a4771f",
   "metadata": {},
   "outputs": [],
   "source": [
    "features = [\n",
    " 'Fpar_500m',\n",
    " 'Lai_500m',\n",
    " 'LST_Day_1km',\n",
    " 'LST_Night_1km',\n",
    " '1 km 16 days NDVI',\n",
    " '1 km 16 days EVI',\n",
    " 'ET_500m',\n",
    " 'LE_500m',\n",
    " 'PET_500m',\n",
    " 'PLE_500m',\n",
    " 'era5_max_u10',\n",
    " 'era5_max_v10',\n",
    " 'era5_max_t2m',\n",
    " 'era5_max_tp',\n",
    " 'era5_min_u10',\n",
    " 'era5_min_v10',\n",
    " 'era5_min_t2m',\n",
    " 'era5_min_tp'\n",
    "]\n",
    "\n",
    "coordinates = ['x', 'y']\n",
    "\n",
    "static_features = [ \n",
    " 'dem_mean',\n",
    " 'dem_std',\n",
    " 'aspect_mean',\n",
    " 'aspect_std',\n",
    " 'slope_mean',\n",
    " 'slope_std',\n",
    " 'roads_density_2020',\n",
    " 'population_density',\n",
    " 'clc'\n",
    "]\n",
    "\n",
    "target = 'burned_areas'"
   ]
  },
  {
   "cell_type": "markdown",
   "id": "41c91cef-345f-4a31-a5ef-840bd410f5db",
   "metadata": {},
   "source": [
    "Data cleaning and train-test splitting: "
   ]
  },
  {
   "cell_type": "code",
   "execution_count": 6,
   "id": "c595a555-3fad-4881-99ed-b9765d4c9ec7",
   "metadata": {},
   "outputs": [],
   "source": [
    "nan_fillvalue = -9999\n",
    "df = df.fillna(nan_fillvalue)\n",
    "time_split = int(df.time.max()*0.85)\n",
    "train_df=df[df['time']<time_split]\n",
    "test_df=df[df['time']>=time_split]"
   ]
  },
  {
   "cell_type": "markdown",
   "id": "6a45cb18-cd93-4b09-90ea-2db02b4bdadf",
   "metadata": {},
   "source": [
    "Fit a Random Forest and plot results: "
   ]
  },
  {
   "cell_type": "code",
   "execution_count": 7,
   "id": "83708c20-863f-4881-86a9-a520d7f5b272",
   "metadata": {},
   "outputs": [
    {
     "name": "stdout",
     "output_type": "stream",
     "text": [
      "              precision    recall  f1-score   support\n",
      "\n",
      "         0.0       0.89      0.93      0.91      2050\n",
      "         1.0       0.73      0.61      0.67       634\n",
      "\n",
      "    accuracy                           0.86      2684\n",
      "   macro avg       0.81      0.77      0.79      2684\n",
      "weighted avg       0.85      0.86      0.85      2684\n",
      "\n"
     ]
    },
    {
     "data": {
      "image/png": "[encoded data removed]",
      "text/plain": [
       "<Figure size 432x288 with 2 Axes>"
      ]
     },
     "metadata": {
      "needs_background": "light"
     },
     "output_type": "display_data"
    },
    {
     "data": {
      "image/png": "[encoded data removed]",
      "text/plain": [
       "<Figure size 432x288 with 1 Axes>"
      ]
     },
     "metadata": {
      "needs_background": "light"
     },
     "output_type": "display_data"
    }
   ],
   "source": [
    "features_to_exclude = [\n",
    " 'Fpar_500m',\n",
    " 'Lai_500m',\n",
    "#  'LST_Day_1km',\n",
    "#  'LST_Night_1km',\n",
    "#  '1 km 16 days NDVI',\n",
    "#  '1 km 16 days EVI',\n",
    " 'ET_500m',\n",
    " 'LE_500m',\n",
    " 'PET_500m',\n",
    " 'PLE_500m',\n",
    "#  'era5_max_u10',\n",
    "#  'era5_max_v10',\n",
    "#  'era5_max_t2m',\n",
    "#  'era5_max_tp',\n",
    " 'era5_min_u10',\n",
    " 'era5_min_v10',\n",
    " 'era5_min_t2m',\n",
    " 'era5_min_tp',\n",
    "#  'dem_mean',\n",
    " 'dem_std',\n",
    "#  'aspect_mean',\n",
    " 'aspect_std',\n",
    "#  'slope_mean',\n",
    "#  'slope_std',\n",
    "#  'roads_density_2020',\n",
    "#  'population_density',\n",
    "#  'clc'\n",
    "]\n",
    "features_filtered = [x for x in features + static_features if x not in features_to_exclude]\n",
    "\n",
    "X_train, X_test = train_df[features_filtered], test_df[features_filtered]\n",
    "y_train, y_test = train_df[target], test_df[target]\n",
    "clf = RandomForestClassifier()\n",
    "clf.fit(X_train, y_train)\n",
    "print(classification_report(y_test, clf.predict(X_test)))\n",
    "\n",
    "plot_confusion_matrix(clf, X_test, y_test)\n",
    "plt.show()\n",
    "plot_precision_recall_curve(clf, X_test, y_test)  \n",
    "plt.show()"
   ]
  },
  {
   "cell_type": "markdown",
   "id": "03fdf76b-70f7-4763-9c67-b0d887bcf94c",
   "metadata": {},
   "source": [
    "Let us now fit the MAPLE method in order to extract the most relevant features and a local explanation for single instances:"
   ]
  },
  {
   "cell_type": "code",
   "execution_count": 8,
   "id": "99d9a387-d05a-4955-a6f6-89902510afe2",
   "metadata": {},
   "outputs": [
    {
     "data": {
      "text/plain": [
       "['LST_Day_1km',\n",
       " 'LST_Night_1km',\n",
       " '1 km 16 days NDVI',\n",
       " '1 km 16 days EVI',\n",
       " 'era5_max_u10',\n",
       " 'era5_max_v10',\n",
       " 'era5_max_t2m',\n",
       " 'era5_max_tp',\n",
       " 'dem_mean',\n",
       " 'aspect_mean',\n",
       " 'slope_mean',\n",
       " 'slope_std',\n",
       " 'roads_density_2020',\n",
       " 'population_density',\n",
       " 'clc']"
      ]
     },
     "execution_count": 8,
     "metadata": {},
     "output_type": "execute_result"
    }
   ],
   "source": [
    "features_filtered"
   ]
  },
  {
   "cell_type": "code",
   "execution_count": 9,
   "id": "40000a96-bb85-416d-888e-48ccd096f3d3",
   "metadata": {},
   "outputs": [],
   "source": [
    "config = {\n",
    "    \"model\": clf,\n",
    "    \"X\": np.array(X_train), \n",
    "    \"features\":features_filtered,\n",
    "    \"feature_selector\": \"rf\", \n",
    "    \"instance\":0,\n",
    "    \"n_estimators\": 100\n",
    "}"
   ]
  },
  {
   "cell_type": "code",
   "execution_count": 10,
   "id": "b7cc0e69-afb5-49d2-9606-1750cc0a0b76",
   "metadata": {},
   "outputs": [
    {
     "name": "stdout",
     "output_type": "stream",
     "text": [
      "Fitted  rf  to select features for local approximation of the black-box!\n",
      "Number of features to retain =  0\n",
      "Number of features to retain =  1\n",
      "Number of features to retain =  2\n",
      "Number of features to retain =  2\n",
      "Number of features to retain =  2\n",
      "Number of features to retain =  2\n",
      "Number of features to retain =  2\n",
      "Number of features to retain =  2\n",
      "Number of features to retain =  2\n",
      "Number of features to retain =  2\n",
      "Number of features to retain =  2\n",
      "Number of features to retain =  2\n",
      "Number of features to retain =  2\n",
      "Number of features to retain =  2\n",
      "Number of features to retain =  2\n",
      "\n",
      "\n",
      "#################################\n",
      "Selected features by MAPLE : \n",
      "LST_Day_1km\n",
      "LST_Night_1km\n",
      "#################################\n",
      "\n",
      "\n",
      "#################################\n",
      "Instance number :  0\n",
      "LST_Day_1km  =  -9999.0\n",
      "LST_Night_1km  =  -9999.0\n",
      "1 km 16 days NDVI  =  44050000.0\n",
      "1 km 16 days EVI  =  23060000.0\n",
      "era5_max_u10  =  0.79484916\n",
      "era5_max_v10  =  0.31691074\n",
      "era5_max_t2m  =  280.3381\n",
      "era5_max_tp  =  0.0016517565\n",
      "dem_mean  =  582.0038\n",
      "aspect_mean  =  157.80649\n",
      "slope_mean  =  8.457027\n",
      "slope_std  =  4.7070537\n",
      "roads_density_2020  =  0.0\n",
      "population_density  =  -9999.0\n",
      "clc  =  26.0\n",
      "#################################\n",
      "\n",
      "\n",
      "Linear approximation prediction =  0.0\n",
      "[(0.00012474984996920072, 'LST_Day_1km'), (-8.260379120584094e-05, 'LST_Night_1km')]\n"
     ]
    },
    {
     "data": {
      "image/png": "[encoded data removed]",
      "text/plain": [
       "<Figure size 720x720 with 1 Axes>"
      ]
     },
     "metadata": {
      "needs_background": "light"
     },
     "output_type": "display_data"
    },
    {
     "name": "stdout",
     "output_type": "stream",
     "text": [
      "\n",
      "\n",
      "#################################\n",
      "Closest sample : \n",
      "Instance number :  11732\n",
      "LST_Day_1km  =  284.98\n",
      "LST_Night_1km  =  -9999.0\n",
      "Linear model pred =  0.0\n",
      "#################################\n",
      "\n",
      "\n",
      "#################################\n",
      "Farhest sample : \n",
      "Instance number :  0\n",
      "LST_Day_1km  =  315.92\n",
      "LST_Night_1km  =  299.02\n",
      "Linear model pred =  0.0\n",
      "#################################\n",
      "\n",
      "\n",
      "#################################\n",
      "Change of class predicted : \n"
     ]
    },
    {
     "ename": "TypeError",
     "evalue": "only integer scalar arrays can be converted to a scalar index",
     "output_type": "error",
     "traceback": [
      "\u001b[1;31m---------------------------------------------------------------------------\u001b[0m",
      "\u001b[1;31mTypeError\u001b[0m                                 Traceback (most recent call last)",
      "\u001b[1;32m<ipython-input-10-62f3f452e878>\u001b[0m in \u001b[0;36m<module>\u001b[1;34m\u001b[0m\n\u001b[0;32m      1\u001b[0m \u001b[0mmpl\u001b[0m \u001b[1;33m=\u001b[0m \u001b[0mMaple\u001b[0m\u001b[1;33m(\u001b[0m\u001b[0mconfig\u001b[0m\u001b[1;33m)\u001b[0m\u001b[1;33m\u001b[0m\u001b[1;33m\u001b[0m\u001b[0m\n\u001b[1;32m----> 2\u001b[1;33m \u001b[0mXred\u001b[0m\u001b[1;33m,\u001b[0m \u001b[0mlocal_mod\u001b[0m\u001b[1;33m,\u001b[0m \u001b[0moutput\u001b[0m \u001b[1;33m=\u001b[0m \u001b[0mmpl\u001b[0m\u001b[1;33m.\u001b[0m\u001b[0mrun_all\u001b[0m\u001b[1;33m(\u001b[0m\u001b[1;33m)\u001b[0m\u001b[1;33m\u001b[0m\u001b[1;33m\u001b[0m\u001b[0m\n\u001b[0m",
      "\u001b[1;32m~\\Desktop\\repos\\DC\\xai4dc\\methods\\maple.py\u001b[0m in \u001b[0;36mrun_all\u001b[1;34m(self)\u001b[0m\n\u001b[0;32m    152\u001b[0m         \u001b[0mprint\u001b[0m\u001b[1;33m(\u001b[0m\u001b[1;34m\"#################################\"\u001b[0m\u001b[1;33m)\u001b[0m\u001b[1;33m\u001b[0m\u001b[1;33m\u001b[0m\u001b[0m\n\u001b[0;32m    153\u001b[0m         \u001b[0mprint\u001b[0m\u001b[1;33m(\u001b[0m\u001b[1;34m\"Change of class predicted : \"\u001b[0m\u001b[1;33m)\u001b[0m\u001b[1;33m\u001b[0m\u001b[1;33m\u001b[0m\u001b[0m\n\u001b[1;32m--> 154\u001b[1;33m         \u001b[0mprint_instance\u001b[0m\u001b[1;33m(\u001b[0m\u001b[0mX\u001b[0m\u001b[1;33m[\u001b[0m\u001b[0msmpl\u001b[0m\u001b[1;33m[\u001b[0m\u001b[0mclsw\u001b[0m\u001b[1;33m]\u001b[0m\u001b[1;33m,\u001b[0m\u001b[1;33m:\u001b[0m\u001b[1;33m]\u001b[0m\u001b[1;33m,\u001b[0m \u001b[0mfeature_names\u001b[0m\u001b[1;33m,\u001b[0m \u001b[0msmpl\u001b[0m\u001b[1;33m[\u001b[0m\u001b[0mclsw\u001b[0m\u001b[1;33m]\u001b[0m\u001b[1;33m)\u001b[0m\u001b[1;33m\u001b[0m\u001b[1;33m\u001b[0m\u001b[0m\n\u001b[0m\u001b[0;32m    155\u001b[0m         \u001b[0mprint\u001b[0m\u001b[1;33m(\u001b[0m\u001b[1;34m\"Linear model pred = \"\u001b[0m\u001b[1;33m,\u001b[0m \u001b[0mlr_model\u001b[0m\u001b[1;33m.\u001b[0m\u001b[0mpredict\u001b[0m\u001b[1;33m(\u001b[0m\u001b[0mX\u001b[0m\u001b[1;33m[\u001b[0m\u001b[0msmpl\u001b[0m\u001b[1;33m[\u001b[0m\u001b[0mclsw\u001b[0m\u001b[1;33m]\u001b[0m\u001b[1;33m,\u001b[0m\u001b[1;33m:\u001b[0m\u001b[1;33m]\u001b[0m\u001b[1;33m.\u001b[0m\u001b[0mreshape\u001b[0m\u001b[1;33m(\u001b[0m\u001b[1;36m1\u001b[0m\u001b[1;33m,\u001b[0m \u001b[1;33m-\u001b[0m\u001b[1;36m1\u001b[0m\u001b[1;33m)\u001b[0m\u001b[1;33m)\u001b[0m\u001b[1;33m[\u001b[0m\u001b[1;36m0\u001b[0m\u001b[1;33m]\u001b[0m\u001b[1;33m)\u001b[0m\u001b[1;33m\u001b[0m\u001b[1;33m\u001b[0m\u001b[0m\n\u001b[0;32m    156\u001b[0m         \u001b[0mprint\u001b[0m\u001b[1;33m(\u001b[0m\u001b[1;34m\"#################################\"\u001b[0m\u001b[1;33m)\u001b[0m\u001b[1;33m\u001b[0m\u001b[1;33m\u001b[0m\u001b[0m\n",
      "\u001b[1;31mTypeError\u001b[0m: only integer scalar arrays can be converted to a scalar index"
     ]
    }
   ],
   "source": [
    "mpl = Maple(config)\n",
    "Xred, local_mod, output = mpl.run_all()"
   ]
  },
  {
   "cell_type": "code",
   "execution_count": null,
   "id": "a3161855-4c8e-4044-9fc7-e5a16a4c5897",
   "metadata": {},
   "outputs": [],
   "source": []
  }
 ],
 "metadata": {
  "kernelspec": {
   "display_name": "Python 3",
   "language": "python",
   "name": "python3"
  },
  "language_info": {
   "codemirror_mode": {
    "name": "ipython",
    "version": 3
   },
   "file_extension": ".py",
   "mimetype": "text/x-python",
   "name": "python",
   "nbconvert_exporter": "python",
   "pygments_lexer": "ipython3",
   "version": "3.7.10"
  }
 },
 "nbformat": 4,
 "nbformat_minor": 5
}
