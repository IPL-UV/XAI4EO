{
 "cells": [
  {
   "cell_type": "markdown",
   "id": "7fde8596-7add-4be7-a55a-6753e902bc13",
   "metadata": {},
   "source": [
    "# Certifiably Optimal RulE ListS (CORELS)\n",
    "\n",
    "Produce a simple rule list for a dataset with binary features. A chain of if-then statements is produced to predict the labels with the highest accuracy."
   ]
  },
  {
   "cell_type": "code",
   "execution_count": 49,
   "id": "0cdcb9fe-dbbe-4319-a916-c36391e6d4c2",
   "metadata": {},
   "outputs": [],
   "source": [
    "import xarray as xr\n",
    "import netCDF4\n",
    "from pathlib import Path\n",
    "from matplotlib import pyplot as plt\n",
    "import numpy as np\n",
    "import pandas as pd\n",
    "import sys\n",
    "import gc\n",
    "import geopandas as gpd\n",
    "import rioxarray as rxr\n",
    "from shapely.geometry import box\n",
    "from affine import Affine\n",
    "import sys\n",
    "import seaborn as sns\n",
    "import rasterio\n",
    "import os\n",
    "from collections import defaultdict\n",
    "import random\n",
    "from methods.corels import Corels\n",
    "from utils.utils import binarize_data"
   ]
  },
  {
   "cell_type": "code",
   "execution_count": 2,
   "id": "6cc4fe12-f39a-43b5-9858-81bea45dee7a",
   "metadata": {},
   "outputs": [],
   "source": [
    "import warnings\n",
    "warnings.filterwarnings('ignore')"
   ]
  },
  {
   "cell_type": "markdown",
   "id": "7618b444-dbdf-4cdb-adc9-5a7596e13ff9",
   "metadata": {},
   "source": [
    "Upload UC3 data: "
   ]
  },
  {
   "cell_type": "code",
   "execution_count": 3,
   "id": "3bd3e7c0-7163-4a19-8fd2-09f6e0d4e7ce",
   "metadata": {},
   "outputs": [],
   "source": [
    "df = pd.read_csv(r\"/Users/Michele/Desktop/ISP/projects/deepcube/uc3/data/greece_pixel_dataset.csv\")"
   ]
  },
  {
   "cell_type": "code",
   "execution_count": 4,
   "id": "bef2bff2-c391-4ca0-bc45-786950d081b1",
   "metadata": {},
   "outputs": [],
   "source": [
    "features = [\n",
    " 'Fpar_500m',\n",
    " 'Lai_500m',\n",
    " 'LST_Day_1km',\n",
    " 'LST_Night_1km',\n",
    " '1 km 16 days NDVI',\n",
    " '1 km 16 days EVI',\n",
    " 'ET_500m',\n",
    " 'LE_500m',\n",
    " 'PET_500m',\n",
    " 'PLE_500m',\n",
    " 'era5_max_u10',\n",
    " 'era5_max_v10',\n",
    " 'era5_max_t2m',\n",
    " 'era5_max_tp',\n",
    " 'era5_min_u10',\n",
    " 'era5_min_v10',\n",
    " 'era5_min_t2m',\n",
    " 'era5_min_tp'\n",
    "]\n",
    "\n",
    "coordinates = ['x', 'y']\n",
    "\n",
    "static_features = [ \n",
    " 'dem_mean',\n",
    " 'dem_std',\n",
    " 'aspect_mean',\n",
    " 'aspect_std',\n",
    " 'slope_mean',\n",
    " 'slope_std',\n",
    " 'roads_density_2020',\n",
    " 'population_density',\n",
    " 'clc'\n",
    "]\n",
    "\n",
    "target = 'burned_areas'"
   ]
  },
  {
   "cell_type": "markdown",
   "id": "e29e1749-a6bb-49ef-b202-3e09fe20d925",
   "metadata": {},
   "source": [
    "Data cleaning and splitting: "
   ]
  },
  {
   "cell_type": "code",
   "execution_count": 5,
   "id": "01504291-85e0-4401-9fcb-8ad2644415c0",
   "metadata": {},
   "outputs": [],
   "source": [
    "nan_fillvalue = -9999\n",
    "df = df.fillna(nan_fillvalue)\n",
    "time_split = int(df.time.max()*0.85)\n",
    "train_df=df[df['time']<time_split]\n",
    "test_df=df[df['time']>=time_split]"
   ]
  },
  {
   "cell_type": "markdown",
   "id": "9ac5700d-75bc-418b-ba52-1c7afc39c6fe",
   "metadata": {},
   "source": [
    "Fit a Random Forest and plot results: "
   ]
  },
  {
   "cell_type": "code",
   "execution_count": 34,
   "id": "ece9bf59-80ce-45ac-9435-8e53ba175b28",
   "metadata": {},
   "outputs": [],
   "source": [
    "features_to_exclude = [\n",
    " 'Fpar_500m',\n",
    " 'Lai_500m',\n",
    "#  'LST_Day_1km',\n",
    "#  'LST_Night_1km',\n",
    "#  '1 km 16 days NDVI',\n",
    "#  '1 km 16 days EVI',\n",
    " 'ET_500m',\n",
    " 'LE_500m',\n",
    " 'PET_500m',\n",
    " 'PLE_500m',\n",
    "#  'era5_max_u10',\n",
    "#  'era5_max_v10',\n",
    "#  'era5_max_t2m',\n",
    "#  'era5_max_tp',\n",
    " 'era5_min_u10',\n",
    " 'era5_min_v10',\n",
    " 'era5_min_t2m',\n",
    " 'era5_min_tp',\n",
    "#  'dem_mean',\n",
    " 'dem_std',\n",
    "#  'aspect_mean',\n",
    " 'aspect_std',\n",
    "#  'slope_mean',\n",
    "#  'slope_std',\n",
    "#  'roads_density_2020',\n",
    "#  'population_density',\n",
    "#  'clc'\n",
    "]\n",
    "features_filtered = [x for x in features + static_features if x not in features_to_exclude]\n",
    "\n",
    "X_train, X_test = train_df[features_filtered], test_df[features_filtered]\n",
    "y_train, y_test = train_df[target], test_df[target]"
   ]
  },
  {
   "cell_type": "markdown",
   "id": "ac81fb88-c3bf-4f2b-b254-3a09be682bc7",
   "metadata": {},
   "source": [
    "Let us fit the PDP method for plotting the univariate relation between the model and one of the predictors we specify:"
   ]
  },
  {
   "cell_type": "code",
   "execution_count": 35,
   "id": "b17335af-a9d7-4250-b338-63b406459194",
   "metadata": {},
   "outputs": [
    {
     "data": {
      "text/plain": [
       "['LST_Day_1km',\n",
       " 'LST_Night_1km',\n",
       " '1 km 16 days NDVI',\n",
       " '1 km 16 days EVI',\n",
       " 'era5_max_u10',\n",
       " 'era5_max_v10',\n",
       " 'era5_max_t2m',\n",
       " 'era5_max_tp',\n",
       " 'dem_mean',\n",
       " 'aspect_mean',\n",
       " 'slope_mean',\n",
       " 'slope_std',\n",
       " 'roads_density_2020',\n",
       " 'population_density',\n",
       " 'clc']"
      ]
     },
     "execution_count": 35,
     "metadata": {},
     "output_type": "execute_result"
    }
   ],
   "source": [
    "features_filtered"
   ]
  },
  {
   "cell_type": "markdown",
   "id": "32beaf73-9fa6-4a59-8b93-3dd62295556b",
   "metadata": {},
   "source": [
    "Let us produce a list of rules based on a binarized version of the data:"
   ]
  },
  {
   "cell_type": "code",
   "execution_count": 36,
   "id": "caf13678-3ad1-4777-bd96-c31af66e1847",
   "metadata": {},
   "outputs": [],
   "source": [
    "nan_idx = []\n",
    "for f in range(X_train.shape[1]):\n",
    "    nan_idx += list(np.where(np.array(X_train)[:,f]== nan_fillvalue)[0])\n",
    "\n",
    "nan_idx = list(np.unique(nan_idx))\n",
    "index_filtered = list(set(range(X_train.shape[0]))-set(nan_idx))\n",
    "X_clean = np.array(X_train)[index_filtered,:]\n",
    "y_clean = np.array(y_train)[index_filtered]"
   ]
  },
  {
   "cell_type": "code",
   "execution_count": 37,
   "id": "a94eaf7b-4b85-480e-913f-5ffd896916f1",
   "metadata": {},
   "outputs": [],
   "source": [
    "config = {\"X\": X_clean, \n",
    "         \"y\": y_clean, \n",
    "         \"features\": features_filtered}"
   ]
  },
  {
   "cell_type": "code",
   "execution_count": 38,
   "id": "db2b7b9e-c61c-4eee-918e-9ed18e82058b",
   "metadata": {},
   "outputs": [],
   "source": [
    "c = Corels(config)\n",
    "clf = c.fit()"
   ]
  },
  {
   "cell_type": "code",
   "execution_count": 41,
   "id": "4270d8dc-00e3-4788-be1a-7be55e8675f7",
   "metadata": {},
   "outputs": [
    {
     "name": "stdout",
     "output_type": "stream",
     "text": [
      "RULELIST:\n",
      "if [LST_Night_1km >= 292.154 && not era5_max_v10 >= -0.666]:\n",
      "  Fire Risk = True\n",
      "else if [LST_Day_1km >= 305.598 && era5_max_t2m >= 301.047]:\n",
      "  Fire Risk = True\n",
      "else \n",
      "  Fire Risk = False\n"
     ]
    }
   ],
   "source": [
    "c.plot(clf)"
   ]
  },
  {
   "cell_type": "code",
   "execution_count": 40,
   "id": "1f714112-8ee8-44e3-84c4-94818465f547",
   "metadata": {},
   "outputs": [
    {
     "name": "stdout",
     "output_type": "stream",
     "text": [
      "Rule list for Fire Risk:\n",
      "RULELIST:\n",
      "if [LST_Night_1km >= 292.154 && not era5_max_v10 >= -0.666]:\n",
      "  Fire Risk = True\n",
      "else if [LST_Day_1km >= 305.598 && era5_max_t2m >= 301.047]:\n",
      "  Fire Risk = True\n",
      "else \n",
      "  Fire Risk = False\n"
     ]
    }
   ],
   "source": [
    "c.run_all()"
   ]
  },
  {
   "cell_type": "code",
   "execution_count": 54,
   "id": "09906140-ce38-41b9-9966-001b1c81f553",
   "metadata": {},
   "outputs": [
    {
     "name": "stdout",
     "output_type": "stream",
     "text": [
      "Train set accuracy =  0.8406943528894748\n"
     ]
    }
   ],
   "source": [
    "print(\"Train set accuracy = \", clf.score(X_clean, y_clean))"
   ]
  },
  {
   "cell_type": "markdown",
   "id": "fd384a09-78ba-49b0-a54f-7f69c7c56e4a",
   "metadata": {},
   "source": [
    "Let us see what is the accuracy over (unseen) test data:"
   ]
  },
  {
   "cell_type": "code",
   "execution_count": 46,
   "id": "c8c87ddc-0496-47ff-9589-4735585211d2",
   "metadata": {},
   "outputs": [],
   "source": [
    "nan_idx = []\n",
    "for f in range(X_test.shape[1]):\n",
    "    nan_idx += list(np.where(np.array(X_test)[:,f]== nan_fillvalue)[0])\n",
    "\n",
    "nan_idx = list(np.unique(nan_idx))\n",
    "index_filtered = list(set(range(X_test.shape[0]))-set(nan_idx))\n",
    "Xt_clean = np.array(X_test)[index_filtered,:]\n",
    "yt_clean = np.array(y_test)[index_filtered]"
   ]
  },
  {
   "cell_type": "code",
   "execution_count": 50,
   "id": "de09115b-977b-4b0e-9a9c-0405495eaa12",
   "metadata": {},
   "outputs": [],
   "source": [
    "_, Xt_bin = binarize_data(Xt_clean, features_filtered)"
   ]
  },
  {
   "cell_type": "code",
   "execution_count": 53,
   "id": "628c3846-728c-4600-afce-c5d86143bf62",
   "metadata": {},
   "outputs": [
    {
     "name": "stdout",
     "output_type": "stream",
     "text": [
      "Test set accuracy =  0.71045197740113\n"
     ]
    }
   ],
   "source": [
    "print(\"Test set accuracy = \", clf.score(Xt_bin, yt_clean))"
   ]
  }
 ],
 "metadata": {
  "kernelspec": {
   "display_name": "Python 3",
   "language": "python",
   "name": "python3"
  },
  "language_info": {
   "codemirror_mode": {
    "name": "ipython",
    "version": 3
   },
   "file_extension": ".py",
   "mimetype": "text/x-python",
   "name": "python",
   "nbconvert_exporter": "python",
   "pygments_lexer": "ipython3",
   "version": "3.7.10"
  }
 },
 "nbformat": 4,
 "nbformat_minor": 5
}
